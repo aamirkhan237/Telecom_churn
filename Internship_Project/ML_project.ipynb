{
  "cells": [
    {
      "cell_type": "code",
      "execution_count": 70,
      "metadata": {
        "colab": {
          "base_uri": "https://localhost:8080/"
        },
        "id": "btUit46I1Qzu",
        "outputId": "cd2668b0-7742-48f5-84da-69bbfe5e6753"
      },
      "outputs": [],
      "source": [
        "# from google.colab import drive\n",
        "# drive.mount('/content/drive')"
      ]
    },
    {
      "cell_type": "code",
      "execution_count": 71,
      "metadata": {},
      "outputs": [],
      "source": [
        "# pip install pandas-profiling\n"
      ]
    },
    {
      "cell_type": "code",
      "execution_count": 72,
      "metadata": {
        "id": "vd7FvPPb3Q7Z"
      },
      "outputs": [],
      "source": [
        "import numpy as np\n",
        "import pandas as pd\n",
        "import seaborn as sns\n",
        "import matplotlib.pyplot as plt\n",
        "# from pandas_profiling import ProfileReport"
      ]
    },
    {
      "cell_type": "code",
      "execution_count": 73,
      "metadata": {},
      "outputs": [],
      "source": [
        "# !pip install pandas-profiling==2.11.0"
      ]
    },
    {
      "cell_type": "code",
      "execution_count": 74,
      "metadata": {},
      "outputs": [],
      "source": [
        "# pip show pandas"
      ]
    },
    {
      "cell_type": "code",
      "execution_count": 75,
      "metadata": {},
      "outputs": [],
      "source": [
        "# pip uninstall pandas-profiling"
      ]
    },
    {
      "cell_type": "code",
      "execution_count": 76,
      "metadata": {},
      "outputs": [],
      "source": [
        "# !pip install pandas-profiling==2.11.0"
      ]
    },
    {
      "cell_type": "code",
      "execution_count": 77,
      "metadata": {
        "colab": {
          "base_uri": "https://localhost:8080/",
          "height": 661
        },
        "id": "yYZ0QPTE3C03",
        "outputId": "b0b01711-61f7-4e1b-9492-84739c2f574c"
      },
      "outputs": [
        {
          "data": {
            "text/html": [
              "<div>\n",
              "<style scoped>\n",
              "    .dataframe tbody tr th:only-of-type {\n",
              "        vertical-align: middle;\n",
              "    }\n",
              "\n",
              "    .dataframe tbody tr th {\n",
              "        vertical-align: top;\n",
              "    }\n",
              "\n",
              "    .dataframe thead th {\n",
              "        text-align: right;\n",
              "    }\n",
              "</style>\n",
              "<table border=\"1\" class=\"dataframe\">\n",
              "  <thead>\n",
              "    <tr style=\"text-align: right;\">\n",
              "      <th></th>\n",
              "      <th>customerID</th>\n",
              "      <th>gender</th>\n",
              "      <th>SeniorCitizen</th>\n",
              "      <th>Partner</th>\n",
              "      <th>Dependents</th>\n",
              "      <th>tenure</th>\n",
              "      <th>PhoneService</th>\n",
              "      <th>MultipleLines</th>\n",
              "      <th>InternetService</th>\n",
              "      <th>OnlineSecurity</th>\n",
              "      <th>...</th>\n",
              "      <th>DeviceProtection</th>\n",
              "      <th>TechSupport</th>\n",
              "      <th>StreamingTV</th>\n",
              "      <th>StreamingMovies</th>\n",
              "      <th>Contract</th>\n",
              "      <th>PaperlessBilling</th>\n",
              "      <th>PaymentMethod</th>\n",
              "      <th>MonthlyCharges</th>\n",
              "      <th>TotalCharges</th>\n",
              "      <th>Churn</th>\n",
              "    </tr>\n",
              "  </thead>\n",
              "  <tbody>\n",
              "    <tr>\n",
              "      <th>0</th>\n",
              "      <td>7590-VHVEG</td>\n",
              "      <td>Female</td>\n",
              "      <td>0</td>\n",
              "      <td>Yes</td>\n",
              "      <td>No</td>\n",
              "      <td>1</td>\n",
              "      <td>No</td>\n",
              "      <td>No phone service</td>\n",
              "      <td>DSL</td>\n",
              "      <td>No</td>\n",
              "      <td>...</td>\n",
              "      <td>No</td>\n",
              "      <td>No</td>\n",
              "      <td>No</td>\n",
              "      <td>No</td>\n",
              "      <td>Month-to-month</td>\n",
              "      <td>Yes</td>\n",
              "      <td>Electronic check</td>\n",
              "      <td>29.85</td>\n",
              "      <td>29.85</td>\n",
              "      <td>No</td>\n",
              "    </tr>\n",
              "    <tr>\n",
              "      <th>1</th>\n",
              "      <td>5575-GNVDE</td>\n",
              "      <td>Male</td>\n",
              "      <td>0</td>\n",
              "      <td>No</td>\n",
              "      <td>No</td>\n",
              "      <td>34</td>\n",
              "      <td>Yes</td>\n",
              "      <td>No</td>\n",
              "      <td>DSL</td>\n",
              "      <td>Yes</td>\n",
              "      <td>...</td>\n",
              "      <td>Yes</td>\n",
              "      <td>No</td>\n",
              "      <td>No</td>\n",
              "      <td>No</td>\n",
              "      <td>One year</td>\n",
              "      <td>No</td>\n",
              "      <td>Mailed check</td>\n",
              "      <td>56.95</td>\n",
              "      <td>1889.5</td>\n",
              "      <td>No</td>\n",
              "    </tr>\n",
              "    <tr>\n",
              "      <th>2</th>\n",
              "      <td>3668-QPYBK</td>\n",
              "      <td>Male</td>\n",
              "      <td>0</td>\n",
              "      <td>No</td>\n",
              "      <td>No</td>\n",
              "      <td>2</td>\n",
              "      <td>Yes</td>\n",
              "      <td>No</td>\n",
              "      <td>DSL</td>\n",
              "      <td>Yes</td>\n",
              "      <td>...</td>\n",
              "      <td>No</td>\n",
              "      <td>No</td>\n",
              "      <td>No</td>\n",
              "      <td>No</td>\n",
              "      <td>Month-to-month</td>\n",
              "      <td>Yes</td>\n",
              "      <td>Mailed check</td>\n",
              "      <td>53.85</td>\n",
              "      <td>108.15</td>\n",
              "      <td>Yes</td>\n",
              "    </tr>\n",
              "    <tr>\n",
              "      <th>3</th>\n",
              "      <td>7795-CFOCW</td>\n",
              "      <td>Male</td>\n",
              "      <td>0</td>\n",
              "      <td>No</td>\n",
              "      <td>No</td>\n",
              "      <td>45</td>\n",
              "      <td>No</td>\n",
              "      <td>No phone service</td>\n",
              "      <td>DSL</td>\n",
              "      <td>Yes</td>\n",
              "      <td>...</td>\n",
              "      <td>Yes</td>\n",
              "      <td>Yes</td>\n",
              "      <td>No</td>\n",
              "      <td>No</td>\n",
              "      <td>One year</td>\n",
              "      <td>No</td>\n",
              "      <td>Bank transfer (automatic)</td>\n",
              "      <td>42.30</td>\n",
              "      <td>1840.75</td>\n",
              "      <td>No</td>\n",
              "    </tr>\n",
              "    <tr>\n",
              "      <th>4</th>\n",
              "      <td>9237-HQITU</td>\n",
              "      <td>Female</td>\n",
              "      <td>0</td>\n",
              "      <td>No</td>\n",
              "      <td>No</td>\n",
              "      <td>2</td>\n",
              "      <td>Yes</td>\n",
              "      <td>No</td>\n",
              "      <td>Fiber optic</td>\n",
              "      <td>No</td>\n",
              "      <td>...</td>\n",
              "      <td>No</td>\n",
              "      <td>No</td>\n",
              "      <td>No</td>\n",
              "      <td>No</td>\n",
              "      <td>Month-to-month</td>\n",
              "      <td>Yes</td>\n",
              "      <td>Electronic check</td>\n",
              "      <td>70.70</td>\n",
              "      <td>151.65</td>\n",
              "      <td>Yes</td>\n",
              "    </tr>\n",
              "    <tr>\n",
              "      <th>...</th>\n",
              "      <td>...</td>\n",
              "      <td>...</td>\n",
              "      <td>...</td>\n",
              "      <td>...</td>\n",
              "      <td>...</td>\n",
              "      <td>...</td>\n",
              "      <td>...</td>\n",
              "      <td>...</td>\n",
              "      <td>...</td>\n",
              "      <td>...</td>\n",
              "      <td>...</td>\n",
              "      <td>...</td>\n",
              "      <td>...</td>\n",
              "      <td>...</td>\n",
              "      <td>...</td>\n",
              "      <td>...</td>\n",
              "      <td>...</td>\n",
              "      <td>...</td>\n",
              "      <td>...</td>\n",
              "      <td>...</td>\n",
              "      <td>...</td>\n",
              "    </tr>\n",
              "    <tr>\n",
              "      <th>7038</th>\n",
              "      <td>6840-RESVB</td>\n",
              "      <td>Male</td>\n",
              "      <td>0</td>\n",
              "      <td>Yes</td>\n",
              "      <td>Yes</td>\n",
              "      <td>24</td>\n",
              "      <td>Yes</td>\n",
              "      <td>Yes</td>\n",
              "      <td>DSL</td>\n",
              "      <td>Yes</td>\n",
              "      <td>...</td>\n",
              "      <td>Yes</td>\n",
              "      <td>Yes</td>\n",
              "      <td>Yes</td>\n",
              "      <td>Yes</td>\n",
              "      <td>One year</td>\n",
              "      <td>Yes</td>\n",
              "      <td>Mailed check</td>\n",
              "      <td>84.80</td>\n",
              "      <td>1990.5</td>\n",
              "      <td>No</td>\n",
              "    </tr>\n",
              "    <tr>\n",
              "      <th>7039</th>\n",
              "      <td>2234-XADUH</td>\n",
              "      <td>Female</td>\n",
              "      <td>0</td>\n",
              "      <td>Yes</td>\n",
              "      <td>Yes</td>\n",
              "      <td>72</td>\n",
              "      <td>Yes</td>\n",
              "      <td>Yes</td>\n",
              "      <td>Fiber optic</td>\n",
              "      <td>No</td>\n",
              "      <td>...</td>\n",
              "      <td>Yes</td>\n",
              "      <td>No</td>\n",
              "      <td>Yes</td>\n",
              "      <td>Yes</td>\n",
              "      <td>One year</td>\n",
              "      <td>Yes</td>\n",
              "      <td>Credit card (automatic)</td>\n",
              "      <td>103.20</td>\n",
              "      <td>7362.9</td>\n",
              "      <td>No</td>\n",
              "    </tr>\n",
              "    <tr>\n",
              "      <th>7040</th>\n",
              "      <td>4801-JZAZL</td>\n",
              "      <td>Female</td>\n",
              "      <td>0</td>\n",
              "      <td>Yes</td>\n",
              "      <td>Yes</td>\n",
              "      <td>11</td>\n",
              "      <td>No</td>\n",
              "      <td>No phone service</td>\n",
              "      <td>DSL</td>\n",
              "      <td>Yes</td>\n",
              "      <td>...</td>\n",
              "      <td>No</td>\n",
              "      <td>No</td>\n",
              "      <td>No</td>\n",
              "      <td>No</td>\n",
              "      <td>Month-to-month</td>\n",
              "      <td>Yes</td>\n",
              "      <td>Electronic check</td>\n",
              "      <td>29.60</td>\n",
              "      <td>346.45</td>\n",
              "      <td>No</td>\n",
              "    </tr>\n",
              "    <tr>\n",
              "      <th>7041</th>\n",
              "      <td>8361-LTMKD</td>\n",
              "      <td>Male</td>\n",
              "      <td>1</td>\n",
              "      <td>Yes</td>\n",
              "      <td>No</td>\n",
              "      <td>4</td>\n",
              "      <td>Yes</td>\n",
              "      <td>Yes</td>\n",
              "      <td>Fiber optic</td>\n",
              "      <td>No</td>\n",
              "      <td>...</td>\n",
              "      <td>No</td>\n",
              "      <td>No</td>\n",
              "      <td>No</td>\n",
              "      <td>No</td>\n",
              "      <td>Month-to-month</td>\n",
              "      <td>Yes</td>\n",
              "      <td>Mailed check</td>\n",
              "      <td>74.40</td>\n",
              "      <td>306.6</td>\n",
              "      <td>Yes</td>\n",
              "    </tr>\n",
              "    <tr>\n",
              "      <th>7042</th>\n",
              "      <td>3186-AJIEK</td>\n",
              "      <td>Male</td>\n",
              "      <td>0</td>\n",
              "      <td>No</td>\n",
              "      <td>No</td>\n",
              "      <td>66</td>\n",
              "      <td>Yes</td>\n",
              "      <td>No</td>\n",
              "      <td>Fiber optic</td>\n",
              "      <td>Yes</td>\n",
              "      <td>...</td>\n",
              "      <td>Yes</td>\n",
              "      <td>Yes</td>\n",
              "      <td>Yes</td>\n",
              "      <td>Yes</td>\n",
              "      <td>Two year</td>\n",
              "      <td>Yes</td>\n",
              "      <td>Bank transfer (automatic)</td>\n",
              "      <td>105.65</td>\n",
              "      <td>6844.5</td>\n",
              "      <td>No</td>\n",
              "    </tr>\n",
              "  </tbody>\n",
              "</table>\n",
              "<p>7043 rows × 21 columns</p>\n",
              "</div>"
            ],
            "text/plain": [
              "      customerID  gender  SeniorCitizen Partner Dependents  tenure  \\\n",
              "0     7590-VHVEG  Female              0     Yes         No       1   \n",
              "1     5575-GNVDE    Male              0      No         No      34   \n",
              "2     3668-QPYBK    Male              0      No         No       2   \n",
              "3     7795-CFOCW    Male              0      No         No      45   \n",
              "4     9237-HQITU  Female              0      No         No       2   \n",
              "...          ...     ...            ...     ...        ...     ...   \n",
              "7038  6840-RESVB    Male              0     Yes        Yes      24   \n",
              "7039  2234-XADUH  Female              0     Yes        Yes      72   \n",
              "7040  4801-JZAZL  Female              0     Yes        Yes      11   \n",
              "7041  8361-LTMKD    Male              1     Yes         No       4   \n",
              "7042  3186-AJIEK    Male              0      No         No      66   \n",
              "\n",
              "     PhoneService     MultipleLines InternetService OnlineSecurity  ...  \\\n",
              "0              No  No phone service             DSL             No  ...   \n",
              "1             Yes                No             DSL            Yes  ...   \n",
              "2             Yes                No             DSL            Yes  ...   \n",
              "3              No  No phone service             DSL            Yes  ...   \n",
              "4             Yes                No     Fiber optic             No  ...   \n",
              "...           ...               ...             ...            ...  ...   \n",
              "7038          Yes               Yes             DSL            Yes  ...   \n",
              "7039          Yes               Yes     Fiber optic             No  ...   \n",
              "7040           No  No phone service             DSL            Yes  ...   \n",
              "7041          Yes               Yes     Fiber optic             No  ...   \n",
              "7042          Yes                No     Fiber optic            Yes  ...   \n",
              "\n",
              "     DeviceProtection TechSupport StreamingTV StreamingMovies        Contract  \\\n",
              "0                  No          No          No              No  Month-to-month   \n",
              "1                 Yes          No          No              No        One year   \n",
              "2                  No          No          No              No  Month-to-month   \n",
              "3                 Yes         Yes          No              No        One year   \n",
              "4                  No          No          No              No  Month-to-month   \n",
              "...               ...         ...         ...             ...             ...   \n",
              "7038              Yes         Yes         Yes             Yes        One year   \n",
              "7039              Yes          No         Yes             Yes        One year   \n",
              "7040               No          No          No              No  Month-to-month   \n",
              "7041               No          No          No              No  Month-to-month   \n",
              "7042              Yes         Yes         Yes             Yes        Two year   \n",
              "\n",
              "     PaperlessBilling              PaymentMethod MonthlyCharges  TotalCharges  \\\n",
              "0                 Yes           Electronic check          29.85         29.85   \n",
              "1                  No               Mailed check          56.95        1889.5   \n",
              "2                 Yes               Mailed check          53.85        108.15   \n",
              "3                  No  Bank transfer (automatic)          42.30       1840.75   \n",
              "4                 Yes           Electronic check          70.70        151.65   \n",
              "...               ...                        ...            ...           ...   \n",
              "7038              Yes               Mailed check          84.80        1990.5   \n",
              "7039              Yes    Credit card (automatic)         103.20        7362.9   \n",
              "7040              Yes           Electronic check          29.60        346.45   \n",
              "7041              Yes               Mailed check          74.40         306.6   \n",
              "7042              Yes  Bank transfer (automatic)         105.65        6844.5   \n",
              "\n",
              "     Churn  \n",
              "0       No  \n",
              "1       No  \n",
              "2      Yes  \n",
              "3       No  \n",
              "4      Yes  \n",
              "...    ...  \n",
              "7038    No  \n",
              "7039    No  \n",
              "7040    No  \n",
              "7041   Yes  \n",
              "7042    No  \n",
              "\n",
              "[7043 rows x 21 columns]"
            ]
          },
          "execution_count": 77,
          "metadata": {},
          "output_type": "execute_result"
        }
      ],
      "source": [
        "# WA_Fn-UseC_-\n",
        "df1 = pd.read_csv(r'C:\\Users\\158419\\OneDrive - Arrow Electronics, Inc\\Desktop\\Jupyter\\DATA\\Telco-Customer-Churn.csv')\n",
        "df = df1.copy()\n",
        "df"
      ]
    },
    {
      "cell_type": "code",
      "execution_count": 78,
      "metadata": {},
      "outputs": [],
      "source": [
        "# pf=ProfileReport(df)\n",
        "# pf.to_file(output_file='output.html')"
      ]
    },
    {
      "cell_type": "code",
      "execution_count": 79,
      "metadata": {
        "colab": {
          "base_uri": "https://localhost:8080/",
          "height": 191
        },
        "id": "yQ6RAdMdzkRK",
        "outputId": "d54f9a6f-19f4-44da-e514-760933b6a398"
      },
      "outputs": [
        {
          "data": {
            "text/html": [
              "<div>\n",
              "<style scoped>\n",
              "    .dataframe tbody tr th:only-of-type {\n",
              "        vertical-align: middle;\n",
              "    }\n",
              "\n",
              "    .dataframe tbody tr th {\n",
              "        vertical-align: top;\n",
              "    }\n",
              "\n",
              "    .dataframe thead th {\n",
              "        text-align: right;\n",
              "    }\n",
              "</style>\n",
              "<table border=\"1\" class=\"dataframe\">\n",
              "  <thead>\n",
              "    <tr style=\"text-align: right;\">\n",
              "      <th></th>\n",
              "      <th>customerID</th>\n",
              "      <th>gender</th>\n",
              "      <th>SeniorCitizen</th>\n",
              "      <th>Partner</th>\n",
              "      <th>Dependents</th>\n",
              "      <th>tenure</th>\n",
              "      <th>PhoneService</th>\n",
              "      <th>MultipleLines</th>\n",
              "      <th>InternetService</th>\n",
              "      <th>OnlineSecurity</th>\n",
              "      <th>...</th>\n",
              "      <th>DeviceProtection</th>\n",
              "      <th>TechSupport</th>\n",
              "      <th>StreamingTV</th>\n",
              "      <th>StreamingMovies</th>\n",
              "      <th>Contract</th>\n",
              "      <th>PaperlessBilling</th>\n",
              "      <th>PaymentMethod</th>\n",
              "      <th>MonthlyCharges</th>\n",
              "      <th>TotalCharges</th>\n",
              "      <th>Churn</th>\n",
              "    </tr>\n",
              "  </thead>\n",
              "  <tbody>\n",
              "    <tr>\n",
              "      <th>488</th>\n",
              "      <td>4472-LVYGI</td>\n",
              "      <td>Female</td>\n",
              "      <td>0</td>\n",
              "      <td>Yes</td>\n",
              "      <td>Yes</td>\n",
              "      <td>0</td>\n",
              "      <td>No</td>\n",
              "      <td>No phone service</td>\n",
              "      <td>DSL</td>\n",
              "      <td>Yes</td>\n",
              "      <td>...</td>\n",
              "      <td>Yes</td>\n",
              "      <td>Yes</td>\n",
              "      <td>Yes</td>\n",
              "      <td>No</td>\n",
              "      <td>Two year</td>\n",
              "      <td>Yes</td>\n",
              "      <td>Bank transfer (automatic)</td>\n",
              "      <td>52.55</td>\n",
              "      <td></td>\n",
              "      <td>No</td>\n",
              "    </tr>\n",
              "  </tbody>\n",
              "</table>\n",
              "<p>1 rows × 21 columns</p>\n",
              "</div>"
            ],
            "text/plain": [
              "     customerID  gender  SeniorCitizen Partner Dependents  tenure  \\\n",
              "488  4472-LVYGI  Female              0     Yes        Yes       0   \n",
              "\n",
              "    PhoneService     MultipleLines InternetService OnlineSecurity  ...  \\\n",
              "488           No  No phone service             DSL            Yes  ...   \n",
              "\n",
              "    DeviceProtection TechSupport StreamingTV StreamingMovies  Contract  \\\n",
              "488              Yes         Yes         Yes              No  Two year   \n",
              "\n",
              "    PaperlessBilling              PaymentMethod MonthlyCharges  TotalCharges  \\\n",
              "488              Yes  Bank transfer (automatic)          52.55                 \n",
              "\n",
              "    Churn  \n",
              "488    No  \n",
              "\n",
              "[1 rows x 21 columns]"
            ]
          },
          "execution_count": 79,
          "metadata": {},
          "output_type": "execute_result"
        }
      ],
      "source": [
        "df[df.index == 488]"
      ]
    },
    {
      "cell_type": "code",
      "execution_count": 80,
      "metadata": {
        "colab": {
          "base_uri": "https://localhost:8080/"
        },
        "id": "h1SyHsMu42qx",
        "outputId": "b7952323-9400-4bec-d35e-94bf3fce7af9"
      },
      "outputs": [
        {
          "name": "stdout",
          "output_type": "stream",
          "text": [
            "<class 'pandas.core.frame.DataFrame'>\n",
            "RangeIndex: 7043 entries, 0 to 7042\n",
            "Data columns (total 21 columns):\n",
            " #   Column            Non-Null Count  Dtype  \n",
            "---  ------            --------------  -----  \n",
            " 0   customerID        7043 non-null   object \n",
            " 1   gender            7043 non-null   object \n",
            " 2   SeniorCitizen     7043 non-null   int64  \n",
            " 3   Partner           7043 non-null   object \n",
            " 4   Dependents        7043 non-null   object \n",
            " 5   tenure            7043 non-null   int64  \n",
            " 6   PhoneService      7043 non-null   object \n",
            " 7   MultipleLines     7043 non-null   object \n",
            " 8   InternetService   7043 non-null   object \n",
            " 9   OnlineSecurity    7043 non-null   object \n",
            " 10  OnlineBackup      7043 non-null   object \n",
            " 11  DeviceProtection  7043 non-null   object \n",
            " 12  TechSupport       7043 non-null   object \n",
            " 13  StreamingTV       7043 non-null   object \n",
            " 14  StreamingMovies   7043 non-null   object \n",
            " 15  Contract          7043 non-null   object \n",
            " 16  PaperlessBilling  7043 non-null   object \n",
            " 17  PaymentMethod     7043 non-null   object \n",
            " 18  MonthlyCharges    7043 non-null   float64\n",
            " 19  TotalCharges      7043 non-null   object \n",
            " 20  Churn             7043 non-null   object \n",
            "dtypes: float64(1), int64(2), object(18)\n",
            "memory usage: 1.1+ MB\n"
          ]
        }
      ],
      "source": [
        "df.info()"
      ]
    },
    {
      "cell_type": "code",
      "execution_count": 81,
      "metadata": {
        "colab": {
          "base_uri": "https://localhost:8080/"
        },
        "id": "gv3I8I2i44F3",
        "outputId": "f8c629cb-591a-4010-af02-0cf5dc97d671"
      },
      "outputs": [
        {
          "data": {
            "text/plain": [
              "(7043, 21)"
            ]
          },
          "execution_count": 81,
          "metadata": {},
          "output_type": "execute_result"
        }
      ],
      "source": [
        "df.shape"
      ]
    },
    {
      "cell_type": "code",
      "execution_count": 82,
      "metadata": {
        "colab": {
          "base_uri": "https://localhost:8080/"
        },
        "id": "F9-VBC-G5SIe",
        "outputId": "d5dc8c29-6574-4273-bdcc-efb55b5eeec6"
      },
      "outputs": [
        {
          "data": {
            "text/plain": [
              "Index(['customerID', 'gender', 'SeniorCitizen', 'Partner', 'Dependents',\n",
              "       'tenure', 'PhoneService', 'MultipleLines', 'InternetService',\n",
              "       'OnlineSecurity', 'OnlineBackup', 'DeviceProtection', 'TechSupport',\n",
              "       'StreamingTV', 'StreamingMovies', 'Contract', 'PaperlessBilling',\n",
              "       'PaymentMethod', 'MonthlyCharges', 'TotalCharges', 'Churn'],\n",
              "      dtype='object')"
            ]
          },
          "execution_count": 82,
          "metadata": {},
          "output_type": "execute_result"
        }
      ],
      "source": [
        "df.columns"
      ]
    },
    {
      "cell_type": "code",
      "execution_count": 83,
      "metadata": {
        "colab": {
          "base_uri": "https://localhost:8080/",
          "height": 300
        },
        "id": "nchej6oJ5UPo",
        "outputId": "97ac30d0-f5ac-425d-a135-b00234ee57e7"
      },
      "outputs": [
        {
          "data": {
            "text/html": [
              "<div>\n",
              "<style scoped>\n",
              "    .dataframe tbody tr th:only-of-type {\n",
              "        vertical-align: middle;\n",
              "    }\n",
              "\n",
              "    .dataframe tbody tr th {\n",
              "        vertical-align: top;\n",
              "    }\n",
              "\n",
              "    .dataframe thead th {\n",
              "        text-align: right;\n",
              "    }\n",
              "</style>\n",
              "<table border=\"1\" class=\"dataframe\">\n",
              "  <thead>\n",
              "    <tr style=\"text-align: right;\">\n",
              "      <th></th>\n",
              "      <th>SeniorCitizen</th>\n",
              "      <th>tenure</th>\n",
              "      <th>MonthlyCharges</th>\n",
              "    </tr>\n",
              "  </thead>\n",
              "  <tbody>\n",
              "    <tr>\n",
              "      <th>count</th>\n",
              "      <td>7043.000000</td>\n",
              "      <td>7043.000000</td>\n",
              "      <td>7043.000000</td>\n",
              "    </tr>\n",
              "    <tr>\n",
              "      <th>mean</th>\n",
              "      <td>0.162147</td>\n",
              "      <td>32.371149</td>\n",
              "      <td>64.761692</td>\n",
              "    </tr>\n",
              "    <tr>\n",
              "      <th>std</th>\n",
              "      <td>0.368612</td>\n",
              "      <td>24.559481</td>\n",
              "      <td>30.090047</td>\n",
              "    </tr>\n",
              "    <tr>\n",
              "      <th>min</th>\n",
              "      <td>0.000000</td>\n",
              "      <td>0.000000</td>\n",
              "      <td>18.250000</td>\n",
              "    </tr>\n",
              "    <tr>\n",
              "      <th>25%</th>\n",
              "      <td>0.000000</td>\n",
              "      <td>9.000000</td>\n",
              "      <td>35.500000</td>\n",
              "    </tr>\n",
              "    <tr>\n",
              "      <th>50%</th>\n",
              "      <td>0.000000</td>\n",
              "      <td>29.000000</td>\n",
              "      <td>70.350000</td>\n",
              "    </tr>\n",
              "    <tr>\n",
              "      <th>75%</th>\n",
              "      <td>0.000000</td>\n",
              "      <td>55.000000</td>\n",
              "      <td>89.850000</td>\n",
              "    </tr>\n",
              "    <tr>\n",
              "      <th>max</th>\n",
              "      <td>1.000000</td>\n",
              "      <td>72.000000</td>\n",
              "      <td>118.750000</td>\n",
              "    </tr>\n",
              "  </tbody>\n",
              "</table>\n",
              "</div>"
            ],
            "text/plain": [
              "       SeniorCitizen       tenure  MonthlyCharges\n",
              "count    7043.000000  7043.000000     7043.000000\n",
              "mean        0.162147    32.371149       64.761692\n",
              "std         0.368612    24.559481       30.090047\n",
              "min         0.000000     0.000000       18.250000\n",
              "25%         0.000000     9.000000       35.500000\n",
              "50%         0.000000    29.000000       70.350000\n",
              "75%         0.000000    55.000000       89.850000\n",
              "max         1.000000    72.000000      118.750000"
            ]
          },
          "execution_count": 83,
          "metadata": {},
          "output_type": "execute_result"
        }
      ],
      "source": [
        "df.describe()"
      ]
    },
    {
      "attachments": {},
      "cell_type": "markdown",
      "metadata": {
        "id": "44HUBTyC5m4c"
      },
      "source": [
        "- conclusion\n",
        "\n",
        "  - for senior citizen the colum is not valid for 25%,50%,75% distribution , because it is categorical.\n",
        "\n",
        "  - only 25% customer is having tenure greater than 55 months while avrage tenure is 32 months.\n",
        "\n",
        "  - 25% customer pays more than 89.It means 75% people pay less then 89"
      ]
    },
    {
      "cell_type": "code",
      "execution_count": 84,
      "metadata": {
        "colab": {
          "base_uri": "https://localhost:8080/"
        },
        "id": "k3fI6fKy6Nou",
        "outputId": "0a8eb9e2-8024-4da4-d8a9-fbfffff1b543"
      },
      "outputs": [
        {
          "data": {
            "text/plain": [
              "No     5174\n",
              "Yes    1869\n",
              "Name: Churn, dtype: int64"
            ]
          },
          "execution_count": 84,
          "metadata": {},
          "output_type": "execute_result"
        }
      ],
      "source": [
        "df['Churn'].value_counts()"
      ]
    },
    {
      "cell_type": "code",
      "execution_count": 85,
      "metadata": {
        "colab": {
          "base_uri": "https://localhost:8080/"
        },
        "id": "NBlehLwl7nK7",
        "outputId": "4c9511f1-ccb0-415e-be89-2bd0c44fbfda"
      },
      "outputs": [
        {
          "data": {
            "text/plain": [
              "No     73.0\n",
              "Yes    27.0\n",
              "Name: Churn, dtype: float64"
            ]
          },
          "execution_count": 85,
          "metadata": {},
          "output_type": "execute_result"
        }
      ],
      "source": [
        "round((df['Churn'].value_counts() * 100)/df.shape[0])"
      ]
    },
    {
      "attachments": {},
      "cell_type": "markdown",
      "metadata": {
        "id": "RXpwSGrV70sO"
      },
      "source": [
        "**conclusion:- Highly Imblaced Data**"
      ]
    },
    {
      "cell_type": "code",
      "execution_count": 86,
      "metadata": {
        "colab": {
          "base_uri": "https://localhost:8080/",
          "height": 776
        },
        "id": "oV0i4iJK6dIK",
        "outputId": "e05b30cc-e7e8-4123-90dc-f748dfeabf29"
      },
      "outputs": [
        {
          "data": {
            "text/plain": [
              "Text(0.5, 1.0, 'TARGET Variable (Churn)')"
            ]
          },
          "execution_count": 86,
          "metadata": {},
          "output_type": "execute_result"
        },
        {
          "data": {
            "image/png": "[encoded data removed]",
            "text/plain": [
              "<Figure size 600x800 with 1 Axes>"
            ]
          },
          "metadata": {},
          "output_type": "display_data"
        }
      ],
      "source": [
        "df['Churn'].value_counts().plot(kind='bar', figsize=(6, 8))\n",
        "plt.ylabel(\"Count\", labelpad=40)\n",
        "plt.xlabel(\"Target Variable\", labelpad=40)\n",
        "plt.title(\"TARGET Variable (Churn)\")\n"
      ]
    },
    {
      "attachments": {},
      "cell_type": "markdown",
      "metadata": {
        "id": "6ruLWqsV8BMO"
      },
      "source": [
        "# **DATA CLEANING**"
      ]
    },
    {
      "cell_type": "code",
      "execution_count": 87,
      "metadata": {
        "colab": {
          "base_uri": "https://localhost:8080/"
        },
        "id": "LKV0xpE-7b4w",
        "outputId": "923bd7fd-f6b7-4d98-f45e-1f4edc483593"
      },
      "outputs": [
        {
          "data": {
            "text/plain": [
              "customerID           object\n",
              "gender               object\n",
              "SeniorCitizen         int64\n",
              "Partner              object\n",
              "Dependents           object\n",
              "tenure                int64\n",
              "PhoneService         object\n",
              "MultipleLines        object\n",
              "InternetService      object\n",
              "OnlineSecurity       object\n",
              "OnlineBackup         object\n",
              "DeviceProtection     object\n",
              "TechSupport          object\n",
              "StreamingTV          object\n",
              "StreamingMovies      object\n",
              "Contract             object\n",
              "PaperlessBilling     object\n",
              "PaymentMethod        object\n",
              "MonthlyCharges      float64\n",
              "TotalCharges         object\n",
              "Churn                object\n",
              "dtype: object"
            ]
          },
          "execution_count": 87,
          "metadata": {},
          "output_type": "execute_result"
        }
      ],
      "source": [
        "df.dtypes"
      ]
    },
    {
      "cell_type": "code",
      "execution_count": 88,
      "metadata": {},
      "outputs": [
        {
          "data": {
            "text/plain": [
              "Index(['customerID', 'gender', 'SeniorCitizen', 'Partner', 'Dependents',\n",
              "       'tenure', 'PhoneService', 'MultipleLines', 'InternetService',\n",
              "       'OnlineSecurity', 'OnlineBackup', 'DeviceProtection', 'TechSupport',\n",
              "       'StreamingTV', 'StreamingMovies', 'Contract', 'PaperlessBilling',\n",
              "       'PaymentMethod', 'MonthlyCharges', 'TotalCharges', 'Churn'],\n",
              "      dtype='object')"
            ]
          },
          "execution_count": 88,
          "metadata": {},
          "output_type": "execute_result"
        }
      ],
      "source": [
        "df.columns"
      ]
    },
    {
      "attachments": {},
      "cell_type": "markdown",
      "metadata": {
        "id": "b0cT_jar8sVQ"
      },
      "source": [
        "- **We Have To Change The Data Types Of TotalCharges, Because It contains String Value**. \n",
        "\n",
        "\n",
        "- **We have to convert it into numeric.**\n"
      ]
    },
    {
      "cell_type": "code",
      "execution_count": 89,
      "metadata": {
        "id": "jBePcQLT9C-L"
      },
      "outputs": [],
      "source": [
        "df['TotalCharges'] = pd.to_numeric(df['TotalCharges'], errors = 'coerce')"
      ]
    },
    {
      "cell_type": "code",
      "execution_count": null,
      "metadata": {
        "colab": {
          "base_uri": "https://localhost:8080/"
        },
        "id": "OB6yUixs91fn",
        "outputId": "80c19874-905f-4a04-bb9e-943a27a24051"
      },
      "outputs": [],
      "source": [
        "df['TotalCharges'].dtypes"
      ]
    },
    {
      "cell_type": "code",
      "execution_count": null,
      "metadata": {
        "colab": {
          "base_uri": "https://localhost:8080/"
        },
        "id": "Q0tYPECG9DEq",
        "outputId": "44fc75cd-6021-4cca-bf84-2a76eee0a076"
      },
      "outputs": [],
      "source": [
        "df.isnull().sum()"
      ]
    },
    {
      "cell_type": "code",
      "execution_count": null,
      "metadata": {},
      "outputs": [],
      "source": [
        "plt.hist(df['Churn'])\n",
        "plt.plot()"
      ]
    },
    {
      "cell_type": "code",
      "execution_count": null,
      "metadata": {
        "colab": {
          "base_uri": "https://localhost:8080/",
          "height": 447
        },
        "id": "dhyRQCpO-OFf",
        "outputId": "c2bfa8e6-8cfb-45a9-c93c-614ebaf793dc"
      },
      "outputs": [],
      "source": [
        "plt.hist(df[\"TotalCharges\"])\n",
        "plt.plot()"
      ]
    },
    {
      "attachments": {},
      "cell_type": "markdown",
      "metadata": {
        "id": "_hQTY-6R-nGz"
      },
      "source": [
        "- **CONCLUSION**\n",
        "\n",
        "  - This Graph Is Rightly Skewed.\n",
        "   \n",
        "  - We can replace Missing Value With Median "
      ]
    },
    {
      "cell_type": "code",
      "execution_count": null,
      "metadata": {
        "id": "oIQl_6Ec-_iB"
      },
      "outputs": [],
      "source": [
        "df[\"TotalCharges\"].replace(np.nan, df[\"TotalCharges\"].median(),inplace=True)"
      ]
    },
    {
      "cell_type": "code",
      "execution_count": null,
      "metadata": {
        "colab": {
          "base_uri": "https://localhost:8080/"
        },
        "id": "m-TcPsN-_Zrm",
        "outputId": "8fd1f829-7e5d-4748-ffbd-9eea9d8420a2"
      },
      "outputs": [],
      "source": [
        "df.isnull().sum()"
      ]
    },
    {
      "cell_type": "code",
      "execution_count": null,
      "metadata": {
        "colab": {
          "base_uri": "https://localhost:8080/",
          "height": 1000
        },
        "id": "IoJLxdmT_eKD",
        "outputId": "99f3fb8e-2397-43f9-9a37-90b24033c018"
      },
      "outputs": [],
      "source": [
        "# Finding Outliers\n",
        "\n",
        "data1 = df.loc[:, ['TotalCharges', 'MonthlyCharges','tenure']]\n",
        "\n",
        "for i , col in enumerate(data1.columns):\n",
        "  plt.figure(i)\n",
        "  sns.boxplot(x = col , data= data1)\n"
      ]
    },
    {
      "attachments": {},
      "cell_type": "markdown",
      "metadata": {
        "id": "TilX-F-gAwoF"
      },
      "source": [
        "- **There Is No Outliers In This Columns.**"
      ]
    },
    {
      "attachments": {},
      "cell_type": "markdown",
      "metadata": {
        "id": "fySFV_lxBYfW"
      },
      "source": [
        "## **Converting continous into Categorical Variable:** "
      ]
    },
    {
      "cell_type": "code",
      "execution_count": null,
      "metadata": {
        "colab": {
          "base_uri": "https://localhost:8080/"
        },
        "id": "i6v7T8MSBocf",
        "outputId": "97b8133e-dc92-459f-dcbf-f7dcf8f2ceae"
      },
      "outputs": [],
      "source": [
        "\n",
        "print(df['tenure'].max())\n"
      ]
    },
    {
      "cell_type": "code",
      "execution_count": null,
      "metadata": {
        "colab": {
          "base_uri": "https://localhost:8080/"
        },
        "id": "CR4drFGhA4Dv",
        "outputId": "8f175fbc-7261-407d-ead1-797b087a2d6e"
      },
      "outputs": [],
      "source": [
        "labels = [\"1 year\",\"2 year\", \"3 year\",\"4 year\",\"5 year\",\"6 year\" ]\n",
        "# cutting into bins\n",
        "df['tenure_group'] = pd.cut(df.tenure, range(1, 74, 12), right=False, labels=labels)\n",
        "df['tenure_group']"
      ]
    },
    {
      "cell_type": "code",
      "execution_count": null,
      "metadata": {
        "colab": {
          "base_uri": "https://localhost:8080/"
        },
        "id": "4aqEW8oNAe9F",
        "outputId": "f3143302-5359-49eb-f2b2-1b5cd0ae061f"
      },
      "outputs": [],
      "source": [
        "\n",
        "df['tenure_group'].value_counts()\n"
      ]
    },
    {
      "attachments": {},
      "cell_type": "markdown",
      "metadata": {
        "id": "pV_cm35MCVgI"
      },
      "source": [
        "- **columns not required in processing should be droped**\n",
        "\n",
        "- Here Customer_Id Is Unique For Each Person.....\n",
        "\n",
        "- tenure is converted into bins and stored in new attribute 'tenure_group'"
      ]
    },
    {
      "cell_type": "code",
      "execution_count": null,
      "metadata": {
        "id": "zdTXAxp7Ctmy"
      },
      "outputs": [],
      "source": [
        "df.drop(columns= ['customerID','tenure'], axis=1, inplace=True)"
      ]
    },
    {
      "cell_type": "code",
      "execution_count": null,
      "metadata": {
        "colab": {
          "base_uri": "https://localhost:8080/",
          "height": 340
        },
        "id": "TV6inWYdC8dR",
        "outputId": "eea334bc-c9a9-4d06-ae6b-353f29b2a539"
      },
      "outputs": [],
      "source": [
        "df.head()"
      ]
    },
    {
      "attachments": {},
      "cell_type": "markdown",
      "metadata": {
        "id": "kxMqljn_DFHO"
      },
      "source": [
        "# **EDA**"
      ]
    },
    {
      "attachments": {},
      "cell_type": "markdown",
      "metadata": {
        "id": "gDWh05q3DXKG"
      },
      "source": [
        "- Here Our Target Variable Is 'Churn' And It Is Categorical\n",
        "\n",
        "- We need to perform classification because our target variable is Categorical\n",
        "\n",
        "- So We Can Perform Two Test To Check Either Other Variable Is Related With Target Variable Or Not.\n",
        "\n",
        "  - ANOVA\n",
        "\n",
        "    - To Check Continues Variable Is Related With Categorical Variable\n",
        "\n",
        "    - ['TotalCharges', 'MonthlyCharges']\n",
        "\n",
        "  - CHISQUARE\n",
        "\n",
        "    - To Check Categorical Variable Is Related With Categorical Variable\n",
        "\n",
        "    - All Other Attribute\n"
      ]
    },
    {
      "attachments": {},
      "cell_type": "markdown",
      "metadata": {
        "id": "c20zdYv_Elgw"
      },
      "source": [
        "\n",
        "  - We can Select continues attribute based on two methods\n",
        "\n",
        "    - visulation\n",
        "  \n",
        "      - BOXPLOT\n",
        "\n",
        "    - statistic\n",
        "\n",
        "      - ANOVA\n",
        "\n"
      ]
    },
    {
      "attachments": {},
      "cell_type": "markdown",
      "metadata": {
        "id": "6H5r6eCWFN2X"
      },
      "source": [
        "#**BOXPLOT**"
      ]
    },
    {
      "cell_type": "code",
      "execution_count": null,
      "metadata": {
        "colab": {
          "base_uri": "https://localhost:8080/"
        },
        "id": "HFtV-LVrFdHg",
        "outputId": "e8c33c64-dee2-406d-911c-6e803b9d937b"
      },
      "outputs": [],
      "source": [
        "df.columns"
      ]
    },
    {
      "cell_type": "code",
      "execution_count": null,
      "metadata": {
        "colab": {
          "base_uri": "https://localhost:8080/",
          "height": 881
        },
        "id": "jGrBdbkfDB9U",
        "outputId": "705b7aba-b7a4-47ff-c747-b86e65e73189"
      },
      "outputs": [],
      "source": [
        "cate = ['TotalCharges','MonthlyCharges']\n",
        "\n",
        "for i, col in enumerate(cate):\n",
        "    plt.figure(i)\n",
        "    sns.boxplot(x=df[\"Churn\"] , y=df[col])\n"
      ]
    },
    {
      "cell_type": "code",
      "execution_count": null,
      "metadata": {
        "colab": {
          "base_uri": "https://localhost:8080/"
        },
        "id": "WnJsiyJ6F62O",
        "outputId": "f3775a9b-1faf-4f5a-cb3d-8e1d66a05777"
      },
      "outputs": [],
      "source": [
        "# Statistic\n",
        "import scipy\n",
        "from scipy import stats\n",
        "def select_cats(cat):\n",
        "\n",
        "  grouped_test2=df[['Churn' , cat]].groupby(['Churn'])\n",
        "  f_val, p_val = stats.f_oneway(*(grouped_test2.get_group(val)[cat] for val in df['Churn'].unique()))\n",
        "  # print( \"ANOVA results: F=\", f_val, \", P =\", p_val)  \n",
        "\n",
        "  dfn1 = len(df['Churn'].unique()) - 1\n",
        "  dfd1 = len(df['Churn'].index) - len(df['Churn'].unique())\n",
        "  # print(f\"dfn1 is {dfn1} and dfd1 is {dfd1}  \")\n",
        "\n",
        "  f_crit = scipy.stats.f.ppf(q=1-.05, dfn=dfn1, dfd=dfd1)\n",
        "\n",
        "  # print(f\" Critical Value Is {f_crit} \")\n",
        "\n",
        "  if f_val > f_crit and p_val < 0.05:\n",
        "    print(\"Attribute Accepted \")\n",
        "  else:\n",
        "    print(\"Attribute Regected \")\n",
        "\n",
        "cate = ['TotalCharges','MonthlyCharges']\n",
        "\n",
        "for col in cate:\n",
        "   select_cats(col)\n"
      ]
    },
    {
      "attachments": {},
      "cell_type": "markdown",
      "metadata": {
        "id": "RYBIMrsr-cCK"
      },
      "source": [
        "showing the relation between monthly charges and total charges "
      ]
    },
    {
      "cell_type": "code",
      "execution_count": null,
      "metadata": {},
      "outputs": [],
      "source": [
        "df.corr()['MonthlyCharges']"
      ]
    },
    {
      "cell_type": "code",
      "execution_count": null,
      "metadata": {},
      "outputs": [],
      "source": [
        "sns.regplot(data=df,x='MonthlyCharges',y='TotalCharges',  line_kws={\"color\":\"Red\"})"
      ]
    },
    {
      "attachments": {},
      "cell_type": "markdown",
      "metadata": {
        "id": "znBdpKGj_ILI"
      },
      "source": [
        "- here the monthly charges and the total charges is highly correlated\n"
      ]
    },
    {
      "cell_type": "code",
      "execution_count": null,
      "metadata": {
        "colab": {
          "base_uri": "https://localhost:8080/",
          "height": 452
        },
        "id": "7QhxWAdwQHXC",
        "outputId": "2c449db6-0773-4f8f-bcb1-30554d8f01ff"
      },
      "outputs": [],
      "source": [
        "# checking their variance \n",
        "\n",
        "a = df['TotalCharges'].var()\n",
        "a\n",
        "\n",
        "b = (df['MonthlyCharges']*12).var()\n",
        "b\n",
        "\n",
        "df['TotalCharges'].hist(bins =30)"
      ]
    },
    {
      "cell_type": "code",
      "execution_count": null,
      "metadata": {
        "colab": {
          "base_uri": "https://localhost:8080/",
          "height": 447
        },
        "id": "ySTUajdbSlSH",
        "outputId": "70af8bc5-2262-4f03-dc03-a0ea61202d05"
      },
      "outputs": [],
      "source": [
        "df['MonthlyCharges'].hist(bins =30)"
      ]
    },
    {
      "attachments": {},
      "cell_type": "markdown",
      "metadata": {
        "id": "PH0N3B7BTX8u"
      },
      "source": [
        "- the distributuon of this two attribute is diffrent so enven after this attribute is highly correlated we can not drop any single attribute from two"
      ]
    },
    {
      "attachments": {},
      "cell_type": "markdown",
      "metadata": {
        "id": "os4K9fLwHiQk"
      },
      "source": [
        "\n",
        "\n",
        "---\n",
        "\n",
        "\n",
        "  - We can Select categorical attribute based on two methods\n",
        "\n",
        "    - visulation\n",
        "  \n",
        "      - CROSS-TAB\n",
        "\n",
        "    - statistic\n",
        "\n",
        "      - CHISQUARE"
      ]
    },
    {
      "attachments": {},
      "cell_type": "markdown",
      "metadata": {
        "id": "WhqHhVeBH5m6"
      },
      "source": [
        "# **CROSS-TAB**"
      ]
    },
    {
      "cell_type": "code",
      "execution_count": null,
      "metadata": {
        "colab": {
          "base_uri": "https://localhost:8080/"
        },
        "id": "xMv7PliEIGOI",
        "outputId": "8b363fd8-a118-46d4-f7b3-8bfd2685d9d8"
      },
      "outputs": [],
      "source": [
        "di = {0:'No', 1:'Yes'}\n",
        "\n",
        "df['SeniorCitizen'] = df['SeniorCitizen'].map(di)\n",
        "df['SeniorCitizen']"
      ]
    },
    {
      "cell_type": "code",
      "execution_count": null,
      "metadata": {
        "colab": {
          "base_uri": "https://localhost:8080/"
        },
        "id": "QvyGVYGlIPUe",
        "outputId": "e79cab8c-07c3-4cf2-9cb4-1b5cbb6313d6"
      },
      "outputs": [],
      "source": [
        "df.columns"
      ]
    },
    {
      "cell_type": "code",
      "execution_count": null,
      "metadata": {
        "colab": {
          "base_uri": "https://localhost:8080/"
        },
        "id": "J5c-5iXNH4dv",
        "outputId": "8bcb7708-bad2-4908-97e2-fa6379b91d68"
      },
      "outputs": [],
      "source": [
        "catdf=df.select_dtypes(include=\"object\")\n",
        "\n",
        "for col in catdf.columns:\n",
        "    print(\"cross tab for \",col)\n",
        "    print()\n",
        "    ct=pd.crosstab(index=catdf[col],columns=df[\"Churn\"],normalize='index',dropna=True)\n",
        "    print(ct)\n",
        "    print(\"___________\")\n",
        "    print('\\n\\n\\n')\n",
        "\n",
        "[]"
      ]
    },
    {
      "cell_type": "code",
      "execution_count": null,
      "metadata": {
        "colab": {
          "base_uri": "https://localhost:8080/"
        },
        "id": "1dL23h8_JlQ9",
        "outputId": "4dcfba2b-7a52-4bb9-bd49-125b72032093"
      },
      "outputs": [],
      "source": [
        "rejected_li = []\n",
        "accepted_li = []\n",
        "def chiSquare(col):\n",
        "  chi_data=pd.crosstab(index=df[col],columns=df['Churn'])\n",
        "  (chi2,p,dof,_)=scipy.stats.chi2_contingency([*(chi_data.iloc[i].values for i in range(len(chi_data)))])\n",
        "\n",
        "  crit=scipy.stats.chi2.ppf(1-0.05, dof)\n",
        "\n",
        "  # print(col, end= \" \")\n",
        "  if chi2>crit:\n",
        "      # print(\" attribute is accepted\")\n",
        "      accepted_li.append(col)\n",
        "  else:\n",
        "      # print(\" attribute rejected\")\n",
        "      rejected_li.append(col)\n",
        "\n",
        "for col in catdf.columns:\n",
        "  chiSquare(col)\n",
        "\n",
        "print('Rejected Attribute Are')\n",
        "print(rejected_li)\n",
        "\n",
        "print('Accepted Attribute Are')\n",
        "print(accepted_li)"
      ]
    },
    {
      "attachments": {},
      "cell_type": "markdown",
      "metadata": {
        "id": "DtKTh2lmDR1u"
      },
      "source": [
        "\n",
        "\n",
        "---\n",
        "\n",
        "\n",
        "\n"
      ]
    },
    {
      "attachments": {},
      "cell_type": "markdown",
      "metadata": {
        "id": "qi4hlYmHCGpV"
      },
      "source": [
        "- Converting chrun data intu numeric format"
      ]
    },
    {
      "cell_type": "code",
      "execution_count": null,
      "metadata": {
        "id": "DoG12jXW-K02"
      },
      "outputs": [],
      "source": [
        "df['Churn'] = np.where(df.Churn == 'Yes',1,0)"
      ]
    },
    {
      "attachments": {},
      "cell_type": "markdown",
      "metadata": {
        "id": "UKDVsI2sDdo4"
      },
      "source": [
        "# ***Bivariant analysis***"
      ]
    },
    {
      "cell_type": "code",
      "execution_count": null,
      "metadata": {
        "colab": {
          "base_uri": "https://localhost:8080/",
          "height": 661
        },
        "id": "RkbUruiwCbge",
        "outputId": "ff30ce8e-8b63-4679-b723-0b2088cea8e5"
      },
      "outputs": [],
      "source": [
        "df_nochurn=df.loc[df[\"Churn\"]==0]\n",
        "df_churn=df.loc[df[\"Churn\"]==1]\n",
        "\n",
        "df_churn"
      ]
    },
    {
      "cell_type": "code",
      "execution_count": null,
      "metadata": {
        "colab": {
          "base_uri": "https://localhost:8080/",
          "height": 1000
        },
        "id": "R2NUqM21KgBn",
        "outputId": "3db9a869-ca69-4297-c8fe-108438d32fdc"
      },
      "outputs": [],
      "source": [
        "df_for_bivariant = df_churn.drop(['gender','MonthlyCharges','TotalCharges','Churn'],axis=1)\n",
        "\n",
        "for i in df_for_bivariant.columns:\n",
        "  sns.countplot(data = df_churn, x= i,hue = 'gender')\n",
        "  plt.show()\n",
        "  # plt.legend(loc = (1.5 , 0.5))\n"
      ]
    },
    {
      "cell_type": "code",
      "execution_count": null,
      "metadata": {
        "colab": {
          "base_uri": "https://localhost:8080/",
          "height": 1000
        },
        "id": "5GAt5xnjUgmr",
        "outputId": "41f8f47b-82c3-46c8-88bd-112005c0f507"
      },
      "outputs": [],
      "source": [
        "for i in df_for_bivariant.columns:\n",
        "  sns.countplot(data = df_nochurn, x= i,hue = 'gender')\n",
        "  plt.show()\n",
        "  # plt.legend(loc = (1.5, 0.5))"
      ]
    },
    {
      "attachments": {},
      "cell_type": "markdown",
      "metadata": {
        "id": "P0kQIVqZPrLY"
      },
      "source": [
        " - Conclusion : all the attributes seems to be important expact the gender"
      ]
    },
    {
      "cell_type": "code",
      "execution_count": null,
      "metadata": {
        "id": "413ZQZCl13yB"
      },
      "outputs": [],
      "source": [
        "df.to_csv('churn_clean.csv')"
      ]
    },
    {
      "attachments": {},
      "cell_type": "markdown",
      "metadata": {
        "id": "mBPbFjq8XN0T"
      },
      "source": [
        "# ***Model Building***"
      ]
    },
    {
      "cell_type": "code",
      "execution_count": null,
      "metadata": {
        "colab": {
          "base_uri": "https://localhost:8080/",
          "height": 522
        },
        "id": "3owrikADUKNz",
        "outputId": "0735ca1d-9223-479f-cbbc-5332f7da55b5"
      },
      "outputs": [],
      "source": [
        "# converting data into numeric format by using pd.get_dummies\n",
        "\n",
        "new_df = pd.get_dummies(df)\n",
        "new_df"
      ]
    },
    {
      "cell_type": "code",
      "execution_count": null,
      "metadata": {
        "colab": {
          "base_uri": "https://localhost:8080/"
        },
        "id": "023bYgPuy82A",
        "outputId": "5f68384b-16d6-4787-d762-fa10e9ef0fcc"
      },
      "outputs": [],
      "source": [
        "df.columns\n"
      ]
    },
    {
      "cell_type": "code",
      "execution_count": null,
      "metadata": {
        "colab": {
          "base_uri": "https://localhost:8080/"
        },
        "id": "NEY0RuM5zUKJ",
        "outputId": "93bbe831-21a5-41bf-c158-51511aee4211"
      },
      "outputs": [],
      "source": [
        "df['Contract'].value_counts()"
      ]
    },
    {
      "cell_type": "code",
      "execution_count": null,
      "metadata": {
        "id": "EtJwNaIkbLBO"
      },
      "outputs": [],
      "source": [
        "# new_df['MonthlyCharges'].describe()\n",
        "# min = 18\n",
        "# max = 118\n",
        "\n",
        "# labels = [i+1 for i in range(20)]\n",
        "\n",
        "# cutting into bins\n",
        "# new_df['MonthlyCharges'] = pd.cut(new_df.MonthlyCharges, range(18, 120, 5), right=False, labels=labels)\n",
        "# new_df['MonthlyCharges'].value_counts()"
      ]
    },
    {
      "cell_type": "code",
      "execution_count": null,
      "metadata": {
        "id": "XuXUSGwMdeyD"
      },
      "outputs": [],
      "source": [
        "# new_df['TotalCharges'].describe()\n",
        "# min = 18\n",
        "# max = 8684\n",
        "\n",
        "# labels = [i+1 for i in range(87)]\n",
        "\n",
        "# # cutting into bins\n",
        "# new_df['TotalCharges'] = pd.cut(new_df.TotalCharges, range(1,8800 , 100), right=False, labels=labels)\n",
        "# new_df['TotalCharges'].value_counts()"
      ]
    },
    {
      "cell_type": "code",
      "execution_count": null,
      "metadata": {
        "colab": {
          "base_uri": "https://localhost:8080/",
          "height": 522
        },
        "id": "UEBb9NDXSliu",
        "outputId": "04f6e40a-8b2a-4299-c54a-f4b8cbd7f637"
      },
      "outputs": [],
      "source": [
        "new_df_copy = new_df.copy(deep=True)\n",
        "new_df_copy"
      ]
    },
    {
      "cell_type": "code",
      "execution_count": null,
      "metadata": {
        "colab": {
          "base_uri": "https://localhost:8080/",
          "height": 522
        },
        "id": "3bccdgoNNHnd",
        "outputId": "aa6fad75-d68c-499f-f004-25dc0a289a7d"
      },
      "outputs": [],
      "source": [
        "new_df"
      ]
    },
    {
      "attachments": {},
      "cell_type": "markdown",
      "metadata": {
        "id": "6a0Fo8LQX2OU"
      },
      "source": [
        "## **DecisionTreeClassification**\n",
        "\n"
      ]
    },
    {
      "cell_type": "code",
      "execution_count": null,
      "metadata": {
        "colab": {
          "base_uri": "https://localhost:8080/"
        },
        "id": "ErxdQNs6WITk",
        "outputId": "31443b61-ef8d-4d70-f601-bffd9573932b"
      },
      "outputs": [],
      "source": [
        "from sklearn import tree\n",
        "from sklearn.model_selection import train_test_split\n",
        "from sklearn import metrics\n",
        "from sklearn.metrics import classification_report\n",
        "\n",
        "new_df.drop(['Churn'],axis = 1 , inplace = True)\n",
        "\n",
        "\n",
        "# split\n",
        "x_train, x_test, y_train, y_test = train_test_split(new_df, df['Churn'], test_size =0.39, random_state = 5)\n",
        "\n",
        "\n",
        "# fit\n",
        "DT = tree.DecisionTreeClassifier()\n",
        "DT = DT.fit(x_train,y_train)\n",
        "\n",
        "# predict\n",
        "y_pred = DT.predict(x_test)\n",
        "\n",
        "\n",
        "print(classification_report(y_test, y_pred, labels=[0,1]))"
      ]
    },
    {
      "attachments": {},
      "cell_type": "markdown",
      "metadata": {
        "id": "eHkEAY28JNE8"
      },
      "source": [
        "## having highly imbalanced data is now causing error for prediction , all we can do is to add dummy data that having output as lower count of target variable "
      ]
    },
    {
      "cell_type": "code",
      "execution_count": null,
      "metadata": {
        "colab": {
          "base_uri": "https://localhost:8080/",
          "height": 240
        },
        "id": "FbdGE_aUZIeA",
        "outputId": "20c15bc2-5405-47b7-9493-df73eeea635d"
      },
      "outputs": [],
      "source": [
        "new_df_copy_1 = new_df_copy[new_df_copy['Churn'] == 1]\n",
        "\n",
        "new_df_copy_1.head(2)"
      ]
    },
    {
      "cell_type": "code",
      "execution_count": null,
      "metadata": {
        "colab": {
          "base_uri": "https://localhost:8080/",
          "height": 557
        },
        "id": "b4AK2xzjMRxR",
        "outputId": "670ced5a-c3ab-4caf-a9d3-28c4a2256b62"
      },
      "outputs": [],
      "source": [
        "new_df_copy_1.reset_index(drop=True, inplace=True)\n",
        "\n",
        "balanced_df = new_df_copy.append(new_df_copy_1)\n",
        "\n",
        "balanced_df"
      ]
    },
    {
      "cell_type": "code",
      "execution_count": null,
      "metadata": {
        "colab": {
          "base_uri": "https://localhost:8080/",
          "height": 557
        },
        "id": "keUnljHjnY-h",
        "outputId": "5c73b6c9-69b7-4814-d2b5-1f2f18c04898"
      },
      "outputs": [],
      "source": [
        "balanced_df.append(new_df_copy_1)"
      ]
    },
    {
      "attachments": {},
      "cell_type": "markdown",
      "metadata": {
        "id": "Xh2o0EGuXSoy"
      },
      "source": [
        "## **Now finaly our data is nearby balanced**"
      ]
    },
    {
      "cell_type": "code",
      "execution_count": null,
      "metadata": {
        "colab": {
          "base_uri": "https://localhost:8080/"
        },
        "id": "Ibh9V7pMXOr5",
        "outputId": "74d47fe3-be1f-4dab-82a9-5968d0f4a9fd"
      },
      "outputs": [],
      "source": [
        "y = balanced_df['Churn']\n",
        "balanced_df.drop(['Churn'],axis=1,inplace=True)\n",
        "\n",
        "# split\n",
        "x_train, x_test, y_train, y_test = train_test_split(balanced_df, y, test_size =0.2)\n",
        "\n",
        "\n",
        "# fit\n",
        "DT = tree.DecisionTreeClassifier()\n",
        "DT = DT.fit(x_train,y_train)\n",
        "\n",
        "# predict\n",
        "y_pred = DT.predict(x_test)\n",
        "\n",
        "\n",
        "print(classification_report(y_test, y_pred, labels=[0,1]))"
      ]
    },
    {
      "attachments": {},
      "cell_type": "markdown",
      "metadata": {
        "id": "-fHMOadK1Dw-"
      },
      "source": [
        "## **Random forest**\n",
        "\n"
      ]
    },
    {
      "cell_type": "code",
      "execution_count": null,
      "metadata": {
        "id": "2709vEWDYWdt"
      },
      "outputs": [],
      "source": [
        "from sklearn.ensemble import RandomForestClassifier \n",
        "\n",
        "# split\n",
        "x_train, x_test, y_train, y_test = train_test_split(balanced_df, y, test_size =0.1)\n",
        "\n",
        "# fit\n",
        "classifier= RandomForestClassifier(n_estimators= 200, criterion=\"gini\")  \n",
        "classifier.fit(x_train, y_train)  \n",
        "\n",
        "# predict\n",
        "y_pred_rf= classifier.predict(x_test)\n",
        "\n"
      ]
    },
    {
      "cell_type": "code",
      "execution_count": null,
      "metadata": {
        "colab": {
          "base_uri": "https://localhost:8080/"
        },
        "id": "-VRwOahOCd46",
        "outputId": "4a97d476-11fe-4004-eb8e-dd1d70549fff"
      },
      "outputs": [],
      "source": [
        "from sklearn.metrics import confusion_matrix\n",
        "conmat = confusion_matrix(y_test, y_pred_rf)\n",
        "conmat"
      ]
    },
    {
      "cell_type": "code",
      "execution_count": null,
      "metadata": {
        "colab": {
          "base_uri": "https://localhost:8080/"
        },
        "id": "6S-e4wgWBW_C",
        "outputId": "4d017c5b-60c5-4485-ec19-15ded733138b"
      },
      "outputs": [],
      "source": [
        "print(classification_report(y_test, y_pred_rf, labels=[0,1]))"
      ]
    },
    {
      "cell_type": "code",
      "execution_count": null,
      "metadata": {
        "colab": {
          "base_uri": "https://localhost:8080/"
        },
        "id": "5UWJz5qzCccH",
        "outputId": "a5b2fb0a-925c-4cb8-f076-9a175b46b54d"
      },
      "outputs": [],
      "source": [
        "from joblib import dump\n",
        "dump(classifier, 'random_forest.joblib')"
      ]
    },
    {
      "attachments": {},
      "cell_type": "markdown",
      "metadata": {
        "id": "ZOURe8E-xK7f"
      },
      "source": [
        "## **Logistic regression**"
      ]
    },
    {
      "cell_type": "code",
      "execution_count": null,
      "metadata": {
        "colab": {
          "base_uri": "https://localhost:8080/"
        },
        "id": "lSoGfwuY2ttC",
        "outputId": "a5eaa379-1331-47e9-c8e8-19028f25d333"
      },
      "outputs": [],
      "source": [
        "from sklearn.preprocessing import StandardScaler \n",
        "from sklearn.model_selection import train_test_split \n",
        "from sklearn.linear_model import LogisticRegression  \n",
        "\n",
        "# making copy\n",
        "balanced_df_copy = balanced_df.copy()\n",
        "\n",
        "#  split\n",
        "x_train, x_test, y_train, y_test= train_test_split(balanced_df_copy, y, test_size= 0.1, random_state=3) \n",
        "\n",
        "\n",
        "# scale\n",
        "st_x= StandardScaler()    \n",
        "x_train= st_x.fit_transform(x_train)    \n",
        "x_test= st_x.transform(x_test)\n",
        "\n",
        "# fit\n",
        "classifier= LogisticRegression(random_state=3)  \n",
        "classifier.fit(x_train, y_train) \n",
        "\n",
        "# predict\n",
        "y_pred_lr= classifier.predict(x_test)\n",
        "\n",
        "# precison and recall\n",
        "print(classification_report(y_test, y_pred_lr, labels=[0,1]))"
      ]
    },
    {
      "attachments": {},
      "cell_type": "markdown",
      "metadata": {
        "id": "fN6lgw1q8rfs"
      },
      "source": [
        "### till here the random forest has given the highest recall and presion now using cross validation on it"
      ]
    },
    {
      "cell_type": "code",
      "execution_count": null,
      "metadata": {
        "colab": {
          "base_uri": "https://localhost:8080/"
        },
        "id": "b62WW-CI4pgI",
        "outputId": "20517009-935a-4d34-d8c9-f34b17807b11"
      },
      "outputs": [],
      "source": [
        "from sklearn.model_selection import cross_val_score\n",
        "\n",
        "score_rf=cross_val_score(RandomForestClassifier(n_estimators=200), balanced_df, y,cv=10,  scoring='recall')\n",
        "print(score_rf)\n",
        "print(\"Avg :\",np.average(score_rf))"
      ]
    },
    {
      "attachments": {},
      "cell_type": "markdown",
      "metadata": {
        "id": "8JyiHiXRA9AS"
      },
      "source": []
    },
    {
      "cell_type": "code",
      "execution_count": null,
      "metadata": {
        "id": "ia4lrd10AnHd"
      },
      "outputs": [],
      "source": [
        "\n",
        "#  hyperperameter tuning \n",
        "#  smote\n",
        "\n",
        "#  boosting \n"
      ]
    }
  ],
  "metadata": {
    "colab": {
      "provenance": []
    },
    "kernelspec": {
      "display_name": "Python 3",
      "name": "python3"
    },
    "language_info": {
      "codemirror_mode": {
        "name": "ipython",
        "version": 3
      },
      "file_extension": ".py",
      "mimetype": "text/x-python",
      "name": "python",
      "nbconvert_exporter": "python",
      "pygments_lexer": "ipython3",
      "version": "3.11.2"
    }
  },
  "nbformat": 4,
  "nbformat_minor": 0
}
